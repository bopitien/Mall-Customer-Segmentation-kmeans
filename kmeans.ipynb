{
 "cells": [
  {
   "cell_type": "markdown",
   "metadata": {},
   "source": [
    "### Import Lib"
   ]
  },
  {
   "cell_type": "code",
   "execution_count": 31,
   "metadata": {},
   "outputs": [],
   "source": [
    "#import libraries \n",
    "\n",
    "import pandas as pd\n",
    "import numpy as np\n",
    "import matplotlib.pyplot as plt\n",
    "import seaborn as sns\n",
    "from sklearn.cluster import KMeans\n"
   ]
  },
  {
   "cell_type": "markdown",
   "metadata": {},
   "source": [
    "### Data Collection & EDA"
   ]
  },
  {
   "cell_type": "code",
   "execution_count": 32,
   "metadata": {},
   "outputs": [
    {
     "data": {
      "text/html": [
       "<div>\n",
       "<style scoped>\n",
       "    .dataframe tbody tr th:only-of-type {\n",
       "        vertical-align: middle;\n",
       "    }\n",
       "\n",
       "    .dataframe tbody tr th {\n",
       "        vertical-align: top;\n",
       "    }\n",
       "\n",
       "    .dataframe thead th {\n",
       "        text-align: right;\n",
       "    }\n",
       "</style>\n",
       "<table border=\"1\" class=\"dataframe\">\n",
       "  <thead>\n",
       "    <tr style=\"text-align: right;\">\n",
       "      <th></th>\n",
       "      <th>CustomerID</th>\n",
       "      <th>Gender</th>\n",
       "      <th>Age</th>\n",
       "      <th>Annual Income (k$)</th>\n",
       "      <th>Spending Score (1-100)</th>\n",
       "    </tr>\n",
       "  </thead>\n",
       "  <tbody>\n",
       "    <tr>\n",
       "      <th>0</th>\n",
       "      <td>1</td>\n",
       "      <td>Male</td>\n",
       "      <td>19</td>\n",
       "      <td>15</td>\n",
       "      <td>39</td>\n",
       "    </tr>\n",
       "    <tr>\n",
       "      <th>1</th>\n",
       "      <td>2</td>\n",
       "      <td>Male</td>\n",
       "      <td>21</td>\n",
       "      <td>15</td>\n",
       "      <td>81</td>\n",
       "    </tr>\n",
       "    <tr>\n",
       "      <th>2</th>\n",
       "      <td>3</td>\n",
       "      <td>Female</td>\n",
       "      <td>20</td>\n",
       "      <td>16</td>\n",
       "      <td>6</td>\n",
       "    </tr>\n",
       "    <tr>\n",
       "      <th>3</th>\n",
       "      <td>4</td>\n",
       "      <td>Female</td>\n",
       "      <td>23</td>\n",
       "      <td>16</td>\n",
       "      <td>77</td>\n",
       "    </tr>\n",
       "    <tr>\n",
       "      <th>4</th>\n",
       "      <td>5</td>\n",
       "      <td>Female</td>\n",
       "      <td>31</td>\n",
       "      <td>17</td>\n",
       "      <td>40</td>\n",
       "    </tr>\n",
       "  </tbody>\n",
       "</table>\n",
       "</div>"
      ],
      "text/plain": [
       "   CustomerID  Gender  Age  Annual Income (k$)  Spending Score (1-100)\n",
       "0           1    Male   19                  15                      39\n",
       "1           2    Male   21                  15                      81\n",
       "2           3  Female   20                  16                       6\n",
       "3           4  Female   23                  16                      77\n",
       "4           5  Female   31                  17                      40"
      ]
     },
     "execution_count": 32,
     "metadata": {},
     "output_type": "execute_result"
    }
   ],
   "source": [
    "dt = pd.read_csv(r\"C:\\Users\\pascal\\Desktop\\New Projects\\Mall Customer Segmentation Data\\archive\\Mall_Customers.csv\")\n",
    "dt.head()"
   ]
  },
  {
   "cell_type": "code",
   "execution_count": 33,
   "metadata": {},
   "outputs": [
    {
     "data": {
      "text/plain": [
       "(200, 5)"
      ]
     },
     "execution_count": 33,
     "metadata": {},
     "output_type": "execute_result"
    }
   ],
   "source": [
    "#no of rows and columns\n",
    "dt.shape"
   ]
  },
  {
   "cell_type": "code",
   "execution_count": 34,
   "metadata": {},
   "outputs": [
    {
     "name": "stdout",
     "output_type": "stream",
     "text": [
      "<class 'pandas.core.frame.DataFrame'>\n",
      "RangeIndex: 200 entries, 0 to 199\n",
      "Data columns (total 5 columns):\n",
      " #   Column                  Non-Null Count  Dtype \n",
      "---  ------                  --------------  ----- \n",
      " 0   CustomerID              200 non-null    int64 \n",
      " 1   Gender                  200 non-null    object\n",
      " 2   Age                     200 non-null    int64 \n",
      " 3   Annual Income (k$)      200 non-null    int64 \n",
      " 4   Spending Score (1-100)  200 non-null    int64 \n",
      "dtypes: int64(4), object(1)\n",
      "memory usage: 7.9+ KB\n"
     ]
    }
   ],
   "source": [
    "dt.info()"
   ]
  },
  {
   "cell_type": "code",
   "execution_count": 35,
   "metadata": {},
   "outputs": [
    {
     "data": {
      "text/plain": [
       "CustomerID                0\n",
       "Gender                    0\n",
       "Age                       0\n",
       "Annual Income (k$)        0\n",
       "Spending Score (1-100)    0\n",
       "dtype: int64"
      ]
     },
     "execution_count": 35,
     "metadata": {},
     "output_type": "execute_result"
    }
   ],
   "source": [
    "dt.isnull().sum()"
   ]
  },
  {
   "cell_type": "code",
   "execution_count": 36,
   "metadata": {},
   "outputs": [
    {
     "data": {
      "text/html": [
       "<div>\n",
       "<style scoped>\n",
       "    .dataframe tbody tr th:only-of-type {\n",
       "        vertical-align: middle;\n",
       "    }\n",
       "\n",
       "    .dataframe tbody tr th {\n",
       "        vertical-align: top;\n",
       "    }\n",
       "\n",
       "    .dataframe thead th {\n",
       "        text-align: right;\n",
       "    }\n",
       "</style>\n",
       "<table border=\"1\" class=\"dataframe\">\n",
       "  <thead>\n",
       "    <tr style=\"text-align: right;\">\n",
       "      <th></th>\n",
       "      <th>CustomerID</th>\n",
       "      <th>Gender</th>\n",
       "      <th>Age</th>\n",
       "      <th>Annual_Income_k$</th>\n",
       "      <th>Spending_Score_1-100</th>\n",
       "    </tr>\n",
       "  </thead>\n",
       "  <tbody>\n",
       "    <tr>\n",
       "      <th>0</th>\n",
       "      <td>1</td>\n",
       "      <td>Male</td>\n",
       "      <td>19</td>\n",
       "      <td>15</td>\n",
       "      <td>39</td>\n",
       "    </tr>\n",
       "    <tr>\n",
       "      <th>1</th>\n",
       "      <td>2</td>\n",
       "      <td>Male</td>\n",
       "      <td>21</td>\n",
       "      <td>15</td>\n",
       "      <td>81</td>\n",
       "    </tr>\n",
       "    <tr>\n",
       "      <th>2</th>\n",
       "      <td>3</td>\n",
       "      <td>Female</td>\n",
       "      <td>20</td>\n",
       "      <td>16</td>\n",
       "      <td>6</td>\n",
       "    </tr>\n",
       "    <tr>\n",
       "      <th>3</th>\n",
       "      <td>4</td>\n",
       "      <td>Female</td>\n",
       "      <td>23</td>\n",
       "      <td>16</td>\n",
       "      <td>77</td>\n",
       "    </tr>\n",
       "    <tr>\n",
       "      <th>4</th>\n",
       "      <td>5</td>\n",
       "      <td>Female</td>\n",
       "      <td>31</td>\n",
       "      <td>17</td>\n",
       "      <td>40</td>\n",
       "    </tr>\n",
       "  </tbody>\n",
       "</table>\n",
       "</div>"
      ],
      "text/plain": [
       "   CustomerID  Gender  Age  Annual_Income_k$  Spending_Score_1-100\n",
       "0           1    Male   19                15                    39\n",
       "1           2    Male   21                15                    81\n",
       "2           3  Female   20                16                     6\n",
       "3           4  Female   23                16                    77\n",
       "4           5  Female   31                17                    40"
      ]
     },
     "execution_count": 36,
     "metadata": {},
     "output_type": "execute_result"
    }
   ],
   "source": [
    "# Rename columns for easier access\n",
    "dt.columns = ['CustomerID', 'Gender', 'Age', 'Annual_Income_k$', 'Spending_Score_1-100']\n",
    "\n",
    "# Verify the changes\n",
    "dt.head()\n"
   ]
  },
  {
   "cell_type": "code",
   "execution_count": 37,
   "metadata": {},
   "outputs": [
    {
     "data": {
      "image/png": "[encoded data removed]",
      "text/plain": [
       "<Figure size 1500x500 with 3 Axes>"
      ]
     },
     "metadata": {},
     "output_type": "display_data"
    }
   ],
   "source": [
    "\n",
    "# distribution for Annual_Income,Spending_Score, and Age\n",
    "plt.figure(figsize=(15, 5))\n",
    "\n",
    "# Annual Income density plot\n",
    "plt.subplot(1, 3, 1)\n",
    "sns.histplot(dt['Annual_Income_k$'], kde=True, color='blue')\n",
    "plt.title('Dist of Annual Income')\n",
    "plt.xlabel('Annual Income (k$)')\n",
    "plt.ylabel('Density')\n",
    "\n",
    "# Spending Score density plot\n",
    "plt.subplot(1, 3, 2)\n",
    "sns.histplot(dt['Spending_Score_1-100'], kde=True, color='green')\n",
    "plt.title(' Dist of Spending Score')\n",
    "plt.xlabel('Spending Score (1-100)')\n",
    "plt.ylabel('Density')\n",
    "\n",
    "# Age density plot\n",
    "plt.subplot(1, 3, 3)\n",
    "sns.histplot(dt['Age'], kde=True, color='red')\n",
    "plt.title('Dist of Age')\n",
    "plt.xlabel('Age')\n",
    "plt.ylabel('Density')\n",
    "\n",
    "plt.tight_layout()\n",
    "plt.show()"
   ]
  },
  {
   "cell_type": "markdown",
   "metadata": {},
   "source": [
    "### Choosing Relevenat Features "
   ]
  },
  {
   "cell_type": "code",
   "execution_count": 38,
   "metadata": {},
   "outputs": [
    {
     "data": {
      "text/html": [
       "<div>\n",
       "<style scoped>\n",
       "    .dataframe tbody tr th:only-of-type {\n",
       "        vertical-align: middle;\n",
       "    }\n",
       "\n",
       "    .dataframe tbody tr th {\n",
       "        vertical-align: top;\n",
       "    }\n",
       "\n",
       "    .dataframe thead th {\n",
       "        text-align: right;\n",
       "    }\n",
       "</style>\n",
       "<table border=\"1\" class=\"dataframe\">\n",
       "  <thead>\n",
       "    <tr style=\"text-align: right;\">\n",
       "      <th></th>\n",
       "      <th>Annual_Income_k$</th>\n",
       "      <th>Spending_Score_1-100</th>\n",
       "    </tr>\n",
       "  </thead>\n",
       "  <tbody>\n",
       "    <tr>\n",
       "      <th>0</th>\n",
       "      <td>15</td>\n",
       "      <td>39</td>\n",
       "    </tr>\n",
       "    <tr>\n",
       "      <th>1</th>\n",
       "      <td>15</td>\n",
       "      <td>81</td>\n",
       "    </tr>\n",
       "    <tr>\n",
       "      <th>2</th>\n",
       "      <td>16</td>\n",
       "      <td>6</td>\n",
       "    </tr>\n",
       "    <tr>\n",
       "      <th>3</th>\n",
       "      <td>16</td>\n",
       "      <td>77</td>\n",
       "    </tr>\n",
       "    <tr>\n",
       "      <th>4</th>\n",
       "      <td>17</td>\n",
       "      <td>40</td>\n",
       "    </tr>\n",
       "  </tbody>\n",
       "</table>\n",
       "</div>"
      ],
      "text/plain": [
       "   Annual_Income_k$  Spending_Score_1-100\n",
       "0                15                    39\n",
       "1                15                    81\n",
       "2                16                     6\n",
       "3                16                    77\n",
       "4                17                    40"
      ]
     },
     "execution_count": 38,
     "metadata": {},
     "output_type": "execute_result"
    }
   ],
   "source": [
    "# Select relevant columns for clustering\n",
    "X = dt[['Annual_Income_k$', 'Spending_Score_1-100']]\n",
    "X.head()"
   ]
  },
  {
   "cell_type": "code",
   "execution_count": 39,
   "metadata": {},
   "outputs": [],
   "source": [
    "from sklearn.preprocessing import StandardScaler\n",
    "\n",
    "# Standardize the features\n",
    "scaler = StandardScaler()\n",
    "X_scaled = scaler.fit_transform(X)"
   ]
  },
  {
   "cell_type": "markdown",
   "metadata": {},
   "source": [
    "Scaling is important because K-Means uses distance (usually Euclidean) to assign data points to clusters. If features like Annual Income have much larger values than Spending Score or Age, they will dominate the distance calculation, leading to biased clusters. Scaling ensures all features contribute equally, improving the clustering accuracy."
   ]
  },
  {
   "cell_type": "code",
   "execution_count": 40,
   "metadata": {},
   "outputs": [
    {
     "name": "stdout",
     "output_type": "stream",
     "text": [
      "[[-1.73899919 -0.43480148]\n",
      " [-1.73899919  1.19570407]\n",
      " [-1.70082976 -1.71591298]\n",
      " [-1.70082976  1.04041783]\n",
      " [-1.66266033 -0.39597992]\n",
      " [-1.66266033  1.00159627]\n",
      " [-1.62449091 -1.71591298]\n",
      " [-1.62449091  1.70038436]\n",
      " [-1.58632148 -1.83237767]\n",
      " [-1.58632148  0.84631002]\n",
      " [-1.58632148 -1.4053405 ]\n",
      " [-1.58632148  1.89449216]\n",
      " [-1.54815205 -1.36651894]\n",
      " [-1.54815205  1.04041783]\n",
      " [-1.54815205 -1.44416206]\n",
      " [-1.54815205  1.11806095]\n",
      " [-1.50998262 -0.59008772]\n",
      " [-1.50998262  0.61338066]\n",
      " [-1.43364376 -0.82301709]\n",
      " [-1.43364376  1.8556706 ]\n",
      " [-1.39547433 -0.59008772]\n",
      " [-1.39547433  0.88513158]\n",
      " [-1.3573049  -1.75473454]\n",
      " [-1.3573049   0.88513158]\n",
      " [-1.24279661 -1.4053405 ]\n",
      " [-1.24279661  1.23452563]\n",
      " [-1.24279661 -0.7065524 ]\n",
      " [-1.24279661  0.41927286]\n",
      " [-1.20462718 -0.74537397]\n",
      " [-1.20462718  1.42863343]\n",
      " [-1.16645776 -1.7935561 ]\n",
      " [-1.16645776  0.88513158]\n",
      " [-1.05194947 -1.7935561 ]\n",
      " [-1.05194947  1.62274124]\n",
      " [-1.05194947 -1.4053405 ]\n",
      " [-1.05194947  1.19570407]\n",
      " [-1.01378004 -1.28887582]\n",
      " [-1.01378004  0.88513158]\n",
      " [-0.89927175 -0.93948177]\n",
      " [-0.89927175  0.96277471]\n",
      " [-0.86110232 -0.59008772]\n",
      " [-0.86110232  1.62274124]\n",
      " [-0.82293289 -0.55126616]\n",
      " [-0.82293289  0.41927286]\n",
      " [-0.82293289 -0.86183865]\n",
      " [-0.82293289  0.5745591 ]\n",
      " [-0.78476346  0.18634349]\n",
      " [-0.78476346 -0.12422899]\n",
      " [-0.78476346 -0.3183368 ]\n",
      " [-0.78476346 -0.3183368 ]\n",
      " [-0.70842461  0.06987881]\n",
      " [-0.70842461  0.38045129]\n",
      " [-0.67025518  0.14752193]\n",
      " [-0.67025518  0.38045129]\n",
      " [-0.67025518 -0.20187212]\n",
      " [-0.67025518 -0.35715836]\n",
      " [-0.63208575 -0.00776431]\n",
      " [-0.63208575 -0.16305055]\n",
      " [-0.55574689  0.03105725]\n",
      " [-0.55574689 -0.16305055]\n",
      " [-0.55574689  0.22516505]\n",
      " [-0.55574689  0.18634349]\n",
      " [-0.51757746  0.06987881]\n",
      " [-0.51757746  0.34162973]\n",
      " [-0.47940803  0.03105725]\n",
      " [-0.47940803  0.34162973]\n",
      " [-0.47940803 -0.00776431]\n",
      " [-0.47940803 -0.08540743]\n",
      " [-0.47940803  0.34162973]\n",
      " [-0.47940803 -0.12422899]\n",
      " [-0.4412386   0.18634349]\n",
      " [-0.4412386  -0.3183368 ]\n",
      " [-0.40306917 -0.04658587]\n",
      " [-0.40306917  0.22516505]\n",
      " [-0.25039146 -0.12422899]\n",
      " [-0.25039146  0.14752193]\n",
      " [-0.25039146  0.10870037]\n",
      " [-0.25039146 -0.08540743]\n",
      " [-0.25039146  0.06987881]\n",
      " [-0.25039146 -0.3183368 ]\n",
      " [-0.25039146  0.03105725]\n",
      " [-0.25039146  0.18634349]\n",
      " [-0.25039146 -0.35715836]\n",
      " [-0.25039146 -0.24069368]\n",
      " [-0.25039146  0.26398661]\n",
      " [-0.25039146 -0.16305055]\n",
      " [-0.13588317  0.30280817]\n",
      " [-0.13588317  0.18634349]\n",
      " [-0.09771374  0.38045129]\n",
      " [-0.09771374 -0.16305055]\n",
      " [-0.05954431  0.18634349]\n",
      " [-0.05954431 -0.35715836]\n",
      " [-0.02137488 -0.04658587]\n",
      " [-0.02137488 -0.39597992]\n",
      " [-0.02137488 -0.3183368 ]\n",
      " [-0.02137488  0.06987881]\n",
      " [-0.02137488 -0.12422899]\n",
      " [-0.02137488 -0.00776431]\n",
      " [ 0.01679455 -0.3183368 ]\n",
      " [ 0.01679455 -0.04658587]\n",
      " [ 0.05496398 -0.35715836]\n",
      " [ 0.05496398 -0.08540743]\n",
      " [ 0.05496398  0.34162973]\n",
      " [ 0.05496398  0.18634349]\n",
      " [ 0.05496398  0.22516505]\n",
      " [ 0.05496398 -0.3183368 ]\n",
      " [ 0.09313341 -0.00776431]\n",
      " [ 0.09313341 -0.16305055]\n",
      " [ 0.09313341 -0.27951524]\n",
      " [ 0.09313341 -0.08540743]\n",
      " [ 0.09313341  0.06987881]\n",
      " [ 0.09313341  0.14752193]\n",
      " [ 0.13130284 -0.3183368 ]\n",
      " [ 0.13130284 -0.16305055]\n",
      " [ 0.16947227 -0.08540743]\n",
      " [ 0.16947227 -0.00776431]\n",
      " [ 0.16947227 -0.27951524]\n",
      " [ 0.16947227  0.34162973]\n",
      " [ 0.24581112 -0.27951524]\n",
      " [ 0.24581112  0.26398661]\n",
      " [ 0.24581112  0.22516505]\n",
      " [ 0.24581112 -0.39597992]\n",
      " [ 0.32214998  0.30280817]\n",
      " [ 0.32214998  1.58391968]\n",
      " [ 0.36031941 -0.82301709]\n",
      " [ 0.36031941  1.04041783]\n",
      " [ 0.39848884 -0.59008772]\n",
      " [ 0.39848884  1.73920592]\n",
      " [ 0.39848884 -1.52180518]\n",
      " [ 0.39848884  0.96277471]\n",
      " [ 0.39848884 -1.5994483 ]\n",
      " [ 0.39848884  0.96277471]\n",
      " [ 0.43665827 -0.62890928]\n",
      " [ 0.43665827  0.80748846]\n",
      " [ 0.4748277  -1.75473454]\n",
      " [ 0.4748277   1.46745499]\n",
      " [ 0.4748277  -1.67709142]\n",
      " [ 0.4748277   0.88513158]\n",
      " [ 0.51299713 -1.56062674]\n",
      " [ 0.51299713  0.84631002]\n",
      " [ 0.55116656 -1.75473454]\n",
      " [ 0.55116656  1.6615628 ]\n",
      " [ 0.58933599 -0.39597992]\n",
      " [ 0.58933599  1.42863343]\n",
      " [ 0.62750542 -1.48298362]\n",
      " [ 0.62750542  1.81684904]\n",
      " [ 0.62750542 -0.55126616]\n",
      " [ 0.62750542  0.92395314]\n",
      " [ 0.66567484 -1.09476801]\n",
      " [ 0.66567484  1.54509812]\n",
      " [ 0.66567484 -1.28887582]\n",
      " [ 0.66567484  1.46745499]\n",
      " [ 0.66567484 -1.17241113]\n",
      " [ 0.66567484  1.00159627]\n",
      " [ 0.66567484 -1.32769738]\n",
      " [ 0.66567484  1.50627656]\n",
      " [ 0.66567484 -1.91002079]\n",
      " [ 0.66567484  1.07923939]\n",
      " [ 0.66567484 -1.91002079]\n",
      " [ 0.66567484  0.88513158]\n",
      " [ 0.70384427 -0.59008772]\n",
      " [ 0.70384427  1.27334719]\n",
      " [ 0.78018313 -1.75473454]\n",
      " [ 0.78018313  1.6615628 ]\n",
      " [ 0.93286085 -0.93948177]\n",
      " [ 0.93286085  0.96277471]\n",
      " [ 0.97103028 -1.17241113]\n",
      " [ 0.97103028  1.73920592]\n",
      " [ 1.00919971 -0.90066021]\n",
      " [ 1.00919971  0.49691598]\n",
      " [ 1.00919971 -1.44416206]\n",
      " [ 1.00919971  0.96277471]\n",
      " [ 1.00919971 -1.56062674]\n",
      " [ 1.00919971  1.62274124]\n",
      " [ 1.04736914 -1.44416206]\n",
      " [ 1.04736914  1.38981187]\n",
      " [ 1.04736914 -1.36651894]\n",
      " [ 1.04736914  0.72984534]\n",
      " [ 1.23821628 -1.4053405 ]\n",
      " [ 1.23821628  1.54509812]\n",
      " [ 1.390894   -0.7065524 ]\n",
      " [ 1.390894    1.38981187]\n",
      " [ 1.42906343 -1.36651894]\n",
      " [ 1.42906343  1.46745499]\n",
      " [ 1.46723286 -0.43480148]\n",
      " [ 1.46723286  1.81684904]\n",
      " [ 1.54357172 -1.01712489]\n",
      " [ 1.54357172  0.69102378]\n",
      " [ 1.61991057 -1.28887582]\n",
      " [ 1.61991057  1.35099031]\n",
      " [ 1.61991057 -1.05594645]\n",
      " [ 1.61991057  0.72984534]\n",
      " [ 2.00160487 -1.63826986]\n",
      " [ 2.00160487  1.58391968]\n",
      " [ 2.26879087 -1.32769738]\n",
      " [ 2.26879087  1.11806095]\n",
      " [ 2.49780745 -0.86183865]\n",
      " [ 2.49780745  0.92395314]\n",
      " [ 2.91767117 -1.25005425]\n",
      " [ 2.91767117  1.27334719]]\n"
     ]
    }
   ],
   "source": [
    "print(X_scaled)"
   ]
  },
  {
   "cell_type": "code",
   "execution_count": 41,
   "metadata": {},
   "outputs": [
    {
     "data": {
      "image/png": "[encoded data removed]",
      "text/plain": [
       "<Figure size 800x500 with 1 Axes>"
      ]
     },
     "metadata": {},
     "output_type": "display_data"
    }
   ],
   "source": [
    "# List to hold the WCSS values\n",
    "wcss = []\n",
    "\n",
    "# Loop over different values of k (from 1 to 10)\n",
    "for i in range(1, 11):\n",
    "    kmeans = KMeans(n_clusters=i, init='k-means++', random_state=42)\n",
    "    kmeans.fit(X_scaled)\n",
    "    wcss.append(kmeans.inertia_)  # inertia_ gives the WCSS for each model\n",
    "\n",
    "# Plot the WCSS values\n",
    "plt.figure(figsize=(8, 5))\n",
    "plt.plot(range(1, 11), wcss)\n",
    "plt.title('The Elbow Method')\n",
    "plt.xlabel('Number of clusters (k)')\n",
    "plt.ylabel('WCSS')\n",
    "plt.show()"
   ]
  },
  {
   "cell_type": "markdown",
   "metadata": {},
   "source": [
    "The elbow point is typically the most significant drop in WCSS. In this plot, the decrease in WCSS slows down considerably after 3 clusters making it a strong candidate. However, after 4 clusters, the curve also flattens out further, indicating that increasing the number of clusters beyond 4 doesn't provide much additional \n",
    "reduction in WCSS. 4 clusters might also be a good option but lets check bu calculating the silhouette score\n",
    "\n",
    "\n"
   ]
  },
  {
   "cell_type": "markdown",
   "metadata": {},
   "source": [
    "### Compute silhouette scores"
   ]
  },
  {
   "cell_type": "code",
   "execution_count": 42,
   "metadata": {},
   "outputs": [
    {
     "name": "stdout",
     "output_type": "stream",
     "text": [
      "Silhouette Score for 3 clusters: 0.46658474419000145\n",
      "Silhouette Score for 4 clusters: 0.49434988482196784\n",
      "Silhouette Score for 5 clusters: 0.5546571631111091\n"
     ]
    }
   ],
   "source": [
    "from sklearn.metrics import silhouette_score\n",
    "from sklearn.cluster import KMeans\n",
    "\n",
    "# Initialize KMeans for 3 ,4  and 5 clusters\n",
    "kmeans_3 = KMeans(n_clusters=3, init='k-means++', random_state=42)\n",
    "kmeans_4 = KMeans(n_clusters=4, init='k-means++', random_state=42)\n",
    "kmeans_5 = KMeans(n_clusters=5, init='k-means++', random_state=42)\n",
    "\n",
    "# Fit the models\n",
    "kmeans_3.fit(X_scaled)\n",
    "kmeans_4.fit(X_scaled)\n",
    "kmeans_5.fit(X_scaled)\n",
    "\n",
    "# Predict the clusters\n",
    "labels_3 = kmeans_3.labels_\n",
    "labels_4 = kmeans_4.labels_\n",
    "labels_5 = kmeans_5.labels_\n",
    "\n",
    "# Calculate the silhouette scores\n",
    "silhouette_score_3 = silhouette_score(X_scaled, labels_3)\n",
    "silhouette_score_4 = silhouette_score(X_scaled, labels_4)\n",
    "silhouette_score_5 = silhouette_score(X_scaled, labels_5)\n",
    "\n",
    "print(f\"Silhouette Score for 3 clusters: {silhouette_score_3}\")\n",
    "print(f\"Silhouette Score for 4 clusters: {silhouette_score_4}\")\n",
    "print(f\"Silhouette Score for 5 clusters: {silhouette_score_5}\")\n",
    "\n"
   ]
  },
  {
   "cell_type": "markdown",
   "metadata": {},
   "source": [
    "#### Interpretation:\n",
    "Higher silhouette scores indicate better-defined and more distinct clusters.\n",
    "As we see here, the silhouette score improves as the number of clusters increases, with 5 clusters providing the highest score of 0.5547.\n",
    "\n",
    "\n",
    "Since the silhouette score is highest for 5 clusters, this suggests that 5 clusters provide the best separation and structure for the data based on the features selected."
   ]
  },
  {
   "cell_type": "markdown",
   "metadata": {},
   "source": [
    "### Model Training With 5 Clusters"
   ]
  },
  {
   "cell_type": "code",
   "execution_count": 43,
   "metadata": {},
   "outputs": [
    {
     "name": "stdout",
     "output_type": "stream",
     "text": [
      "Inertia (WCSS): 65.5684081557168\n",
      "Silhouette Score: 0.5546571631111091\n",
      "Davies-Bouldin Score: 0.5722356162263352\n",
      "Calinski-Harabasz Index: 248.64932001536357\n",
      "Cluster Sizes:\n",
      "0    81\n",
      "1    39\n",
      "3    35\n",
      "4    23\n",
      "2    22\n",
      "Name: count, dtype: int64\n"
     ]
    }
   ],
   "source": [
    "from sklearn.metrics import silhouette_score, davies_bouldin_score, calinski_harabasz_score\n",
    "\n",
    "# Initialize the KMeans model with 5 clusters\n",
    "kmeans = KMeans(n_clusters=5, init='k-means++', random_state=42)\n",
    "\n",
    "# Fit the K-Means model\n",
    "kmeans.fit(X_scaled)\n",
    "\n",
    "# Retrieve cluster labels\n",
    "cluster_labels = kmeans.labels_\n",
    "\n",
    "# Evaluate metrics\n",
    "inertia = kmeans.inertia_\n",
    "silhouette_avg = silhouette_score(X_scaled, cluster_labels)\n",
    "davies_bouldin = davies_bouldin_score(X_scaled, cluster_labels)\n",
    "calinski_harabasz = calinski_harabasz_score(X_scaled, cluster_labels)\n",
    "cluster_sizes = pd.Series(cluster_labels).value_counts()\n",
    "\n",
    "# Display the results\n",
    "print(f\"Inertia (WCSS): {inertia}\")\n",
    "print(f\"Silhouette Score: {silhouette_avg}\")\n",
    "print(f\"Davies-Bouldin Score: {davies_bouldin}\")\n",
    "print(f\"Calinski-Harabasz Index: {calinski_harabasz}\")\n",
    "print(f\"Cluster Sizes:\\n{cluster_sizes}\")"
   ]
  },
  {
   "cell_type": "code",
   "execution_count": 44,
   "metadata": {},
   "outputs": [
    {
     "data": {
      "text/html": [
       "<div>\n",
       "<style scoped>\n",
       "    .dataframe tbody tr th:only-of-type {\n",
       "        vertical-align: middle;\n",
       "    }\n",
       "\n",
       "    .dataframe tbody tr th {\n",
       "        vertical-align: top;\n",
       "    }\n",
       "\n",
       "    .dataframe thead th {\n",
       "        text-align: right;\n",
       "    }\n",
       "</style>\n",
       "<table border=\"1\" class=\"dataframe\">\n",
       "  <thead>\n",
       "    <tr style=\"text-align: right;\">\n",
       "      <th></th>\n",
       "      <th>CustomerID</th>\n",
       "      <th>Gender</th>\n",
       "      <th>Age</th>\n",
       "      <th>Annual_Income_k$</th>\n",
       "      <th>Spending_Score_1-100</th>\n",
       "      <th>Cluster</th>\n",
       "    </tr>\n",
       "  </thead>\n",
       "  <tbody>\n",
       "    <tr>\n",
       "      <th>0</th>\n",
       "      <td>1</td>\n",
       "      <td>Male</td>\n",
       "      <td>19</td>\n",
       "      <td>15</td>\n",
       "      <td>39</td>\n",
       "      <td>4</td>\n",
       "    </tr>\n",
       "    <tr>\n",
       "      <th>1</th>\n",
       "      <td>2</td>\n",
       "      <td>Male</td>\n",
       "      <td>21</td>\n",
       "      <td>15</td>\n",
       "      <td>81</td>\n",
       "      <td>2</td>\n",
       "    </tr>\n",
       "    <tr>\n",
       "      <th>2</th>\n",
       "      <td>3</td>\n",
       "      <td>Female</td>\n",
       "      <td>20</td>\n",
       "      <td>16</td>\n",
       "      <td>6</td>\n",
       "      <td>4</td>\n",
       "    </tr>\n",
       "    <tr>\n",
       "      <th>3</th>\n",
       "      <td>4</td>\n",
       "      <td>Female</td>\n",
       "      <td>23</td>\n",
       "      <td>16</td>\n",
       "      <td>77</td>\n",
       "      <td>2</td>\n",
       "    </tr>\n",
       "    <tr>\n",
       "      <th>4</th>\n",
       "      <td>5</td>\n",
       "      <td>Female</td>\n",
       "      <td>31</td>\n",
       "      <td>17</td>\n",
       "      <td>40</td>\n",
       "      <td>4</td>\n",
       "    </tr>\n",
       "  </tbody>\n",
       "</table>\n",
       "</div>"
      ],
      "text/plain": [
       "   CustomerID  Gender  Age  Annual_Income_k$  Spending_Score_1-100  Cluster\n",
       "0           1    Male   19                15                    39        4\n",
       "1           2    Male   21                15                    81        2\n",
       "2           3  Female   20                16                     6        4\n",
       "3           4  Female   23                16                    77        2\n",
       "4           5  Female   31                17                    40        4"
      ]
     },
     "execution_count": 44,
     "metadata": {},
     "output_type": "execute_result"
    }
   ],
   "source": [
    "# Add the cluster labels back to  original DataFrame\n",
    "dt['Cluster'] = cluster_labels\n",
    "dt.head()"
   ]
  },
  {
   "cell_type": "code",
   "execution_count": 45,
   "metadata": {},
   "outputs": [
    {
     "name": "stdout",
     "output_type": "stream",
     "text": [
      "[4 2 4 2 4 2 4 2 4 2 4 2 4 2 4 2 4 2 4 2 4 2 4 2 4 2 4 2 4 2 4 2 4 2 4 2 4\n",
      " 2 4 2 4 2 4 0 4 2 0 0 0 0 0 0 0 0 0 0 0 0 0 0 0 0 0 0 0 0 0 0 0 0 0 0 0 0\n",
      " 0 0 0 0 0 0 0 0 0 0 0 0 0 0 0 0 0 0 0 0 0 0 0 0 0 0 0 0 0 0 0 0 0 0 0 0 0\n",
      " 0 0 0 0 0 0 0 0 0 0 0 0 1 3 1 0 1 3 1 3 1 0 1 3 1 3 1 3 1 3 1 0 1 3 1 3 1\n",
      " 3 1 3 1 3 1 3 1 3 1 3 1 3 1 3 1 3 1 3 1 3 1 3 1 3 1 3 1 3 1 3 1 3 1 3 1 3\n",
      " 1 3 1 3 1 3 1 3 1 3 1 3 1 3 1]\n"
     ]
    }
   ],
   "source": [
    "print(cluster_labels)"
   ]
  },
  {
   "cell_type": "code",
   "execution_count": null,
   "metadata": {},
   "outputs": [],
   "source": []
  },
  {
   "cell_type": "code",
   "execution_count": 52,
   "metadata": {},
   "outputs": [
    {
     "data": {
      "image/png": "[encoded data removed]",
      "text/plain": [
       "<Figure size 800x600 with 1 Axes>"
      ]
     },
     "metadata": {},
     "output_type": "display_data"
    }
   ],
   "source": [
    "import matplotlib.pyplot as plt\n",
    "\n",
    "# Select two features to plot (Annual Income and Spending Score in this case)\n",
    "plt.figure(figsize=(8, 6))\n",
    "\n",
    "# Scatter plot for each cluster\n",
    "plt.scatter(X_scaled[:, 0], X_scaled[:, 1], c=cluster_labels, cmap='viridis', s=50)\n",
    "\n",
    "# Plot the centroids\n",
    "centroids = kmeans.cluster_centers_\n",
    "plt.scatter(centroids[:, 0], centroids[:, 1], s=200, c='red', marker='X', label='Centroids')\n",
    "\n",
    "# Add labels and title\n",
    "plt.title('Customer Groups')\n",
    "plt.xlabel('Annual Income (Scaled)')\n",
    "plt.ylabel('Spending Score (Scaled)')\n",
    "plt.legend()\n",
    "plt.show()\n"
   ]
  },
  {
   "cell_type": "code",
   "execution_count": 49,
   "metadata": {},
   "outputs": [
    {
     "name": "stdout",
     "output_type": "stream",
     "text": [
      "               Age  Annual_Income_k$  Spending_Score_1-100  Cluster\n",
      "Cluster                                                            \n",
      "0        42.716049         55.296296             49.518519      0.0\n",
      "1        32.692308         86.538462             82.128205      1.0\n",
      "2        25.272727         25.727273             79.363636      2.0\n",
      "3        41.114286         88.200000             17.114286      3.0\n",
      "4        45.217391         26.304348             20.913043      4.0\n"
     ]
    }
   ],
   "source": [
    "# Add the cluster labels back to the original DataFrame\n",
    "dt['Cluster'] = cluster_labels\n",
    "\n",
    "# Select numeric columns, excluding CustomerID\n",
    "numeric_columns = dt.drop(['CustomerID', 'Gender'], axis=1).select_dtypes(include=[float, int])\n",
    "\n",
    "# Calculate the mean for each cluster\n",
    "cluster_summary = numeric_columns.groupby(dt['Cluster']).mean()\n",
    "\n",
    "# Display the summary\n",
    "print(cluster_summary)\n"
   ]
  },
  {
   "cell_type": "markdown",
   "metadata": {},
   "source": [
    "Business Recommendations for a Fictional Big Mall Based on Cluster Analysis:\n",
    "With the segmentation insights you’ve gained, you can develop tailored strategies to optimize customer engagement and sales. Here are specific recommendations for each customer cluster:\n",
    "\n",
    "Cluster 0: Average Customers (Middle-aged, Moderate Income, Moderate Spending)\n",
    "Strategy: Focus on increasing customer retention and loyalty.\n",
    "Loyalty Programs: Introduce or enhance loyalty programs to reward regular customers for their spending habits, encouraging them to shop more frequently.\n",
    "Seasonal Offers: These customers are moderately engaged, so timely discounts during festive seasons or special events can boost their spending.\n",
    "Convenience: Offering a seamless shopping experience, such as easy returns, in-store services, and exclusive deals for loyal customers, can increase their satisfaction.\n",
    "Cluster 1: Premium Customers (Young, High Income, High Spending)\n",
    "Strategy: Focus on personalization and premium experiences to retain these high-value customers.\n",
    "Exclusive Offers: Provide early access to new and premium products, invite them to exclusive events, or give VIP treatment (e.g., personal shopping assistants).\n",
    "Luxury Brands and Experiences: Promote luxury items, high-end services, and experiences such as fine dining, spas, or concierge services that appeal to their lifestyle.\n",
    "Upselling: Introduce complementary premium products or services to encourage them to increase their spending further.\n",
    "Cluster 2: Young Spenders (Young, Low Income, High Spending)\n",
    "Strategy: Appeal to their spending habits with cost-effective but trendy products.\n",
    "Trend-Focused Marketing: Promote trendy and budget-friendly items, such as fashion-forward clothing or affordable tech gadgets, which appeal to their preferences.\n",
    "Payment Plans: Offer installment plans or flexible payment options to encourage larger purchases despite their lower income.\n",
    "Social Media Campaigns: Target this group with social media-driven marketing campaigns, influencer partnerships, and limited-time online offers that create a sense of urgency.\n",
    "Cluster 3: Affluent Savers (Middle-aged, High Income, Low Spending)\n",
    "Strategy: Encourage more frequent visits and higher spending by appealing to their value-conscious nature.\n",
    "Value-Based Promotions: Offer personalized deals on premium products they might typically avoid due to price. Highlight value-for-money offers in luxury categories (e.g., high-quality electronics, home goods).\n",
    "Financial Services: This group may be interested in financial products, such as investment opportunities, savings plans, or exclusive offers for major purchases.\n",
    "Exclusive Memberships: Introduce membership programs that offer long-term savings on big purchases, which align with their more conservative spending patterns.\n",
    "Cluster 4: Budget-Conscious Shoppers (Older, Low Income, Low Spending)\n",
    "Strategy: Focus on driving value and affordability for this group.\n",
    "Discounts and Bargains: Tailor promotions around deep discounts, bulk purchases, and value-for-money products (e.g., discounted groceries, affordable clothing, etc.).\n",
    "Senior Discounts: If the demographic is primarily older, implement senior citizen discounts or special offers on essential products like healthcare and home essentials.\n",
    "Partnerships with Discount Retailers: Consider stocking brands or partnering with stores that specialize in budget-conscious products.\n",
    "General Recommendations:\n",
    "Omni-Channel Strategy: Ensure a strong online presence with personalized recommendations for each segment. Use data-driven insights to create targeted online ads, personalized email marketing, and promotions.\n",
    "\n",
    "Data-Driven Marketing: Leverage the clustering insights to deliver segmented marketing campaigns. For example:\n",
    "\n",
    "Cluster 1 (Premium Customers): Focus on email campaigns with new arrivals or limited-edition products.\n",
    "Cluster 4 (Budget-Conscious): Send SMS notifications about upcoming sales or discounts.\n",
    "In-Store Experience: Tailor the in-store experience to each segment. For premium customers (Cluster 1), offer personalized services and special in-store promotions, while for budget-conscious customers (Cluster 4), ensure clear signage of discounts and affordable products.\n",
    "\n",
    "Partnerships and Collaborations: Use cluster insights to forge partnerships with relevant brands or services. For example, Cluster 3 might be more attracted to long-term value partnerships (e.g., high-quality electronics or financial services), while Cluster 2 may prefer trendy, fast-fashion brands."
   ]
  },
  {
   "cell_type": "code",
   "execution_count": 53,
   "metadata": {},
   "outputs": [
    {
     "data": {
      "text/plain": [
       "['kmeans_model.pkl']"
      ]
     },
     "execution_count": 53,
     "metadata": {},
     "output_type": "execute_result"
    }
   ],
   "source": [
    "import joblib\n",
    "\n",
    "# Save the KMeans model\n",
    "joblib.dump(kmeans, 'kmeans_model.pkl')\n"
   ]
  },
  {
   "cell_type": "code",
   "execution_count": null,
   "metadata": {},
   "outputs": [],
   "source": []
  },
  {
   "cell_type": "code",
   "execution_count": null,
   "metadata": {},
   "outputs": [],
   "source": []
  },
  {
   "cell_type": "code",
   "execution_count": null,
   "metadata": {},
   "outputs": [],
   "source": []
  },
  {
   "cell_type": "code",
   "execution_count": null,
   "metadata": {},
   "outputs": [],
   "source": []
  },
  {
   "cell_type": "code",
   "execution_count": null,
   "metadata": {},
   "outputs": [],
   "source": []
  },
  {
   "cell_type": "code",
   "execution_count": null,
   "metadata": {},
   "outputs": [],
   "source": []
  }
 ],
 "metadata": {
  "kernelspec": {
   "display_name": "Python 3",
   "language": "python",
   "name": "python3"
  },
  "language_info": {
   "codemirror_mode": {
    "name": "ipython",
    "version": 3
   },
   "file_extension": ".py",
   "mimetype": "text/x-python",
   "name": "python",
   "nbconvert_exporter": "python",
   "pygments_lexer": "ipython3",
   "version": "3.12.6"
  }
 },
 "nbformat": 4,
 "nbformat_minor": 2
}
